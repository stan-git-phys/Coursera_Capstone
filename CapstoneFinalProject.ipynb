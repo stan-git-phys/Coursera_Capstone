{
 "cells": [
  {
   "cell_type": "markdown",
   "metadata": {},
   "source": [
    "# Coursera Capstone Final Project"
   ]
  },
  {
   "cell_type": "markdown",
   "metadata": {},
   "source": [
    "This notebook contains the work for the capstone project of the IBM Data Science Professional Certificate."
   ]
  },
  {
   "cell_type": "markdown",
   "metadata": {},
   "source": [
    "## Table of contents\n",
    "* [Introduction](#introduction)\n",
    "* [Data](#data)\n",
    "* [Methodology](#methodology)\n",
    "* [Results](#analysis)\n",
    "* [Discussion](#results)\n",
    "* [Conclusion](#conclusion)"
   ]
  },
  {
   "cell_type": "markdown",
   "metadata": {},
   "source": [
    "## Introduction"
   ]
  },
  {
   "cell_type": "markdown",
   "metadata": {},
   "source": [
    "For this project the business problem in focus is ideal property locations in Toronto, Canada. The results of the project will be targeted at stakeholders who want to open a new location for their coffe chain.\n",
    "\n",
    "The metrics that we consider a priority are based on footfall, pricing and competition.\n",
    "\n",
    "The results we hope to achieve are clear indications of neighbourhoods that belong to a cluster that for other examples typically contain coffee shops but perhaps do not currently have a large amount open."
   ]
  },
  {
   "cell_type": "markdown",
   "metadata": {},
   "source": [
    "## Data"
   ]
  },
  {
   "cell_type": "markdown",
   "metadata": {},
   "source": [
    "For this analysis we will divide the city of Toronto into neighbourhoods as defined by the wikipedia page: https://en.wikipedia.org/wiki/List_of_postal_codes_of_Canada:_M\n",
    "\n",
    "As we are focusing on footfall and compeition we will look to collect data on the following:\n",
    "* How many coffee shops are there in the neighbourhood\n",
    "* How close to busy areas like the city centre is the neighbourhood\n",
    "* How expensive are competiting businesses in the area\n",
    "\n",
    "\n",
    "Following data sources will be needed to extract/generate the required information:\n",
    "* centers of neighbourhoods latlongs have come in a preloaded csv due to the geocoder module failing to collect them\n",
    "* number of restaurants and their type and location in every neighborhood will be obtained using **Foursquare API**, we will also look to include the pricing of competing locations in the analysis\n",
    "* distances to key points in Toronto will be obtained by research of the location of city centre and key transport points and calculation from the latlongs\n",
    "\n",
    "With this data collected for each neighbourhood we will produce a space that enables us to define similarity metrics between the neighbourhoods."
   ]
  },
  {
   "cell_type": "markdown",
   "metadata": {},
   "source": [
    "## Methodology"
   ]
  },
  {
   "cell_type": "markdown",
   "metadata": {},
   "source": [
    "## Results"
   ]
  },
  {
   "cell_type": "markdown",
   "metadata": {},
   "source": [
    "## Discussion"
   ]
  },
  {
   "cell_type": "markdown",
   "metadata": {},
   "source": [
    "## Conclusion"
   ]
  },
  {
   "cell_type": "code",
   "execution_count": null,
   "metadata": {},
   "outputs": [],
   "source": []
  }
 ],
 "metadata": {
  "kernelspec": {
   "display_name": "Python 3",
   "language": "python",
   "name": "python3"
  },
  "language_info": {
   "codemirror_mode": {
    "name": "ipython",
    "version": 3
   },
   "file_extension": ".py",
   "mimetype": "text/x-python",
   "name": "python",
   "nbconvert_exporter": "python",
   "pygments_lexer": "ipython3",
   "version": "3.8.5"
  }
 },
 "nbformat": 4,
 "nbformat_minor": 4
}
